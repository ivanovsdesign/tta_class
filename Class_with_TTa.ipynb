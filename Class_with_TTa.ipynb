{
 "cells": [
  {
   "cell_type": "code",
   "execution_count": 45,
   "metadata": {},
   "outputs": [],
   "source": [
    "import numpy as np\n",
    "import pandas as pd\n",
    "from tqdm import tqdm\n",
    "import os\n",
    "import torch\n",
    "import torch.nn as nn\n",
    "import torch.nn.functional as F\n",
    "import torchvision.transforms as transforms\n",
    "from torch.utils.data import DataLoader, Dataset\n",
    "from sklearn.model_selection import train_test_split\n",
    "from PIL import Image\n",
    "import pytorch_lightning as pl\n",
    "from pytorch_lightning.callbacks import ModelCheckpoint\n",
    "from pytorch_lightning.loggers import TensorBoardLogger\n",
    "import random\n",
    "from sklearn.metrics import accuracy_score, f1_score, roc_auc_score\n",
    "from torchvision.transforms import v2\n",
    "\n",
    "from typing import List, Literal\n",
    "\n",
    "import cv2\n",
    "\n",
    "import matplotlib.pyplot as plt\n",
    "\n",
    "import timm\n",
    "\n",
    "import gc\n",
    "\n"
   ]
  },
  {
   "cell_type": "code",
   "execution_count": 46,
   "metadata": {},
   "outputs": [],
   "source": [
    "N = 224\n",
    "N_CLASSES = 2\n",
    "SMOOTH = 0.1\n",
    "LOSS = 'CE' # CE or UANLL\n",
    "SEED = [42, 0, 17, 9, 3]\n",
    "NUM_TTA_FOR_SEED = 10\n",
    "TRAIN = True\n",
    "EPOCHS = 1\n",
    "\n",
    "CONFIG = dict(\n",
    "    backbone = \"tf_efficientnetv2_s\", # , resnet18, tf_efficientnet_b0.ns_jft_in1k\n",
    "    drop_rate = 0,\n",
    "    drop_rate_last = 0.3,\n",
    "    drop_rate_path = 0.,\n",
    "    device = torch.device(\"cuda:0\") if torch.cuda.is_available() else \"cpu\"\n",
    ")\n"
   ]
  },
  {
   "cell_type": "code",
   "execution_count": 47,
   "metadata": {},
   "outputs": [],
   "source": [
    "def seed_everything(seed: int):\n",
    "    random.seed(seed)\n",
    "    os.environ['PYTHONHASHSEED'] = str(seed)\n",
    "    np.random.seed(seed)\n",
    "    torch.manual_seed(seed)\n",
    "    torch.cuda.manual_seed(seed)\n",
    "    torch.backends.cudnn.deterministic = True\n",
    "    torch.backends.cudnn.benchmark = False\n",
    "    pl.seed_everything(seed)\n",
    "    g = torch.Generator()\n",
    "    g.manual_seed(seed)\n",
    "    return g\n",
    "    \n",
    "    \n",
    "def seed_worker(worker_id):\n",
    "    worker_seed = torch.initial_seed() % 2**32\n",
    "    np.random.seed(worker_seed)\n",
    "    random.seed(worker_seed)"
   ]
  },
  {
   "cell_type": "code",
   "execution_count": 48,
   "metadata": {},
   "outputs": [],
   "source": [
    "from torchvision.transforms import ToTensor\n",
    "\n",
    "class ClassDataset(Dataset):\n",
    "    def __init__(self, dataframe, preload_transform=None, transform=None):\n",
    "        self.dataframe = dataframe\n",
    "        self.preload_transform = preload_transform\n",
    "        self.transform = transform\n",
    "\n",
    "        self.images = torch.zeros(len(dataframe), 3, N, N).float()\n",
    "\n",
    "        for idx in range(len(dataframe)):\n",
    "            image_path = self.dataframe.index[idx]\n",
    "            image = Image.open(f'images/{image_path}').convert(\"RGB\")\n",
    "            if self.preload_transform:\n",
    "                self.images[idx] = self.preload_transform(image)\n",
    "\n",
    "    def __len__(self):\n",
    "        return len(self.dataframe)\n",
    "\n",
    "    def __getitem__(self, idx):\n",
    "        if self.transform:\n",
    "            return self.transform(self.images[idx]), int(self.dataframe.loc[self.dataframe.index[idx], 'CTI_label'])\n",
    "        else:\n",
    "            return self.images[idx], int(self.dataframe.loc[self.dataframe.index[idx], 'CTI_label'])\n",
    "\n",
    "class ISICDataset(Dataset):\n",
    "    def __init__(self,\n",
    "                 dataframe: pd.DataFrame,\n",
    "                 img_dir: str,\n",
    "                 transform: List = None):\n",
    "        \"\"\"\n",
    "        Dataset class for loading ISIC Balanced Dataset\n",
    "        Can be downloaded via kaggle api: olegopoly/isic-balanced\n",
    "        \n",
    "        Args:\n",
    "            dataframe (pd.DataFrame): DataFrame containing the isic_id and target columns.\n",
    "            img_dir (string): Directory with all the images.\n",
    "            transform (callable, optional): Optional transform to be applied on a sample.\n",
    "        \"\"\"\n",
    "        self.dataframe = dataframe\n",
    "        self.img_dir = img_dir\n",
    "        self.transform = transform\n",
    "\n",
    "    def __len__(self):\n",
    "        return len(self.dataframe)\n",
    "\n",
    "    def __getitem__(self, idx):\n",
    "        if torch.is_tensor(idx):\n",
    "            idx = idx.tolist()\n",
    "\n",
    "        isic_id = self.dataframe.iloc[idx]['isic_id']\n",
    "        target = self.dataframe.iloc[idx]['target']        \n",
    "        img_name = os.path.join(self.img_dir, f\"{isic_id}.jpg\")\n",
    "        \n",
    "        image = cv2.imread(img_name)\n",
    "        image = cv2.cvtColor(image, cv2.COLOR_BGR2RGB)\n",
    "        \n",
    "        if self.transform:\n",
    "            image = self.transform(image=image)['image']\n",
    "        \n",
    "        # Convert image to PyTorch tensor\n",
    "        image = ToTensor()(image)\n",
    "        \n",
    "        # Convert target to long tensor\n",
    "        target = torch.tensor(target, dtype=torch.long)\n",
    "        \n",
    "        return image, target\n"
   ]
  },
  {
   "cell_type": "markdown",
   "metadata": {},
   "source": [
    "### Transforms"
   ]
  },
  {
   "cell_type": "code",
   "execution_count": 49,
   "metadata": {},
   "outputs": [
    {
     "name": "stderr",
     "output_type": "stream",
     "text": [
      "/root/miniconda/envs/cxr/lib/python3.12/site-packages/pydantic/main.py:212: UserWarning: blur_limit and sigma_limit minimum value can not be both equal to 0. blur_limit minimum value changed to 3.\n",
      "  validated_self = self.__pydantic_validator__.validate_python(data, self_instance=self)\n"
     ]
    }
   ],
   "source": [
    "import albumentations as A\n",
    "\n",
    "transforms = {'train' :  A.Compose([\n",
    "        A.Transpose(p=0.5),\n",
    "        A.HorizontalFlip(p=0.5),\n",
    "        A.VerticalFlip(p=0.5),\n",
    "        A.Rotate(limit=(-25, 25), p=0.5), \n",
    "        \n",
    "        A.RandomBrightnessContrast(brightness_limit=0.2, contrast_limit=0.2, p=0.75),\n",
    "        \n",
    "        A.OneOf([\n",
    "            A.MotionBlur(blur_limit=5),\n",
    "            A.MedianBlur(blur_limit=5),\n",
    "            A.GaussianBlur(blur_limit=5),\n",
    "            A.GaussNoise(var_limit=(5.0, 30.0))\n",
    "        ], p=0.7),\n",
    "        \n",
    "        A.OneOf([\n",
    "            A.OpticalDistortion(distort_limit=1.0),\n",
    "            A.GridDistortion(num_steps=5, distort_limit=1.0),\n",
    "            A.ElasticTransform(alpha=3),\n",
    "        ], p=0.7),\n",
    "        \n",
    "        A.CLAHE(clip_limit=4.0, p=0.7),\n",
    "        A.HueSaturationValue(hue_shift_limit=10, sat_shift_limit=20, val_shift_limit=10, p=0.5),\n",
    "        A.ShiftScaleRotate(shift_limit=0.1, scale_limit=0.1, rotate_limit=15, border_mode=0, p=0.5),\n",
    "        \n",
    "        A.Resize(height=N, width=N, p=1.0),\n",
    "        A.CoarseDropout(max_holes=5, max_height=int(N * 0.15), max_width=int(N * 0.15), p=0.3),\n",
    "        A.Normalize(mean=[0.485, 0.456, 0.406], \n",
    "                    std=[0.229, 0.224, 0.225], \n",
    "                    max_pixel_value=255.0, p=1)\n",
    "    ]),\n",
    "    \n",
    "    'valid' : A.Compose([\n",
    "        A.Resize(height=N, width=N, p=1.0),\n",
    "        A.Normalize(mean=[0.485, 0.456, 0.406], \n",
    "                    std=[0.229, 0.224, 0.225], \n",
    "                    max_pixel_value=255.0, p=1)\n",
    "    ]),\n",
    "\n",
    "    'tta' : A.Compose([\n",
    "        \n",
    "        A.RandomBrightnessContrast(brightness_limit=0.2, contrast_limit=0.2, p=0.75),\n",
    "        A.OneOf([\n",
    "            A.MotionBlur(blur_limit=5),\n",
    "            A.MedianBlur(blur_limit=5),\n",
    "            A.GaussianBlur(blur_limit=5),\n",
    "            A.GaussNoise(var_limit=(5.0, 30.0))\n",
    "        ], p=0.7),\n",
    "        A.OneOf([\n",
    "            A.OpticalDistortion(distort_limit=1.0),\n",
    "            A.GridDistortion(num_steps=5, distort_limit=1.0),\n",
    "            A.ElasticTransform(alpha=3),\n",
    "        ], p=0.7),\n",
    "        A.CLAHE(clip_limit=4.0, p=0.7),\n",
    "        A.HueSaturationValue(hue_shift_limit=10, sat_shift_limit=20, val_shift_limit=10, p=0.5),\n",
    "        A.ShiftScaleRotate(shift_limit=0.1, scale_limit=0.1, rotate_limit=15, border_mode=0, p=0.5),\n",
    "        A.Resize(height=N, width=N, p=1.0),\n",
    "        A.CoarseDropout(max_holes=5, max_height=int(N * 0.15), max_width=int(N * 0.15), p=0.3),\n",
    "        A.Normalize(mean=[0.485, 0.456, 0.406], \n",
    "                    std=[0.229, 0.224, 0.225], \n",
    "                    max_pixel_value=255.0, p=1)\n",
    "    ])\n",
    "\n",
    "    }"
   ]
  },
  {
   "cell_type": "code",
   "execution_count": 50,
   "metadata": {},
   "outputs": [],
   "source": [
    "dataframe = pd.read_csv('data/dataset.csv')\n",
    "\n",
    "dataset = ISICDataset(dataframe, 'data/images', transform=transforms['valid'])"
   ]
  },
  {
   "cell_type": "code",
   "execution_count": 51,
   "metadata": {},
   "outputs": [],
   "source": [
    "iterator = iter(dataset)"
   ]
  },
  {
   "cell_type": "code",
   "execution_count": 52,
   "metadata": {},
   "outputs": [
    {
     "name": "stderr",
     "output_type": "stream",
     "text": [
      "Clipping input data to the valid range for imshow with RGB data ([0..1] for floats or [0..255] for integers). Got range [-2.0151553..2.378562].\n"
     ]
    },
    {
     "name": "stdout",
     "output_type": "stream",
     "text": [
      "Image of class 1\n",
      "Image size torch.Size([3, 224, 224])\n"
     ]
    },
    {
     "data": {
      "text/plain": [
       "(np.float64(-0.5), np.float64(223.5), np.float64(223.5), np.float64(-0.5))"
      ]
     },
     "execution_count": 52,
     "metadata": {},
     "output_type": "execute_result"
    },
    {
     "data": {
      "image/png": "[encoded data removed]",
      "text/plain": [
       "<Figure size 640x480 with 1 Axes>"
      ]
     },
     "metadata": {},
     "output_type": "display_data"
    }
   ],
   "source": [
    "image, label = next(iterator)\n",
    "\n",
    "print(f'Image of class {label}')\n",
    "print(f'Image size {image.size()}')\n",
    "\n",
    "plt.imshow(image.permute(1, 2, 0))\n",
    "plt.title(label)\n",
    "plt.axis('off')"
   ]
  },
  {
   "cell_type": "code",
   "execution_count": 53,
   "metadata": {},
   "outputs": [],
   "source": [
    "df = pd.read_csv('data/dataset.csv')\n",
    "df['target'] = df['target'].astype(int)"
   ]
  },
  {
   "cell_type": "code",
   "execution_count": 54,
   "metadata": {},
   "outputs": [
    {
     "data": {
      "text/html": [
       "<div>\n",
       "<style scoped>\n",
       "    .dataframe tbody tr th:only-of-type {\n",
       "        vertical-align: middle;\n",
       "    }\n",
       "\n",
       "    .dataframe tbody tr th {\n",
       "        vertical-align: top;\n",
       "    }\n",
       "\n",
       "    .dataframe thead th {\n",
       "        text-align: right;\n",
       "    }\n",
       "</style>\n",
       "<table border=\"1\" class=\"dataframe\">\n",
       "  <thead>\n",
       "    <tr style=\"text-align: right;\">\n",
       "      <th></th>\n",
       "      <th>isic_id</th>\n",
       "      <th>patient_id</th>\n",
       "      <th>path</th>\n",
       "      <th>target</th>\n",
       "      <th>target_eva02</th>\n",
       "      <th>binned_target</th>\n",
       "      <th>new_path</th>\n",
       "    </tr>\n",
       "  </thead>\n",
       "  <tbody>\n",
       "    <tr>\n",
       "      <th>0</th>\n",
       "      <td>ISIC_0034246</td>\n",
       "      <td>HAM_0000002</td>\n",
       "      <td>/kaggle/input/isic-2018-jpg-256x256-resized/tr...</td>\n",
       "      <td>1</td>\n",
       "      <td>NaN</td>\n",
       "      <td>NaN</td>\n",
       "      <td>/kaggle/input/isic-balanced/images/ISIC_003424...</td>\n",
       "    </tr>\n",
       "    <tr>\n",
       "      <th>1</th>\n",
       "      <td>ISIC_0034162</td>\n",
       "      <td>HAM_0000006</td>\n",
       "      <td>/kaggle/input/isic-2018-jpg-256x256-resized/tr...</td>\n",
       "      <td>1</td>\n",
       "      <td>NaN</td>\n",
       "      <td>NaN</td>\n",
       "      <td>/kaggle/input/isic-balanced/images/ISIC_003416...</td>\n",
       "    </tr>\n",
       "    <tr>\n",
       "      <th>2</th>\n",
       "      <td>ISIC_0031377</td>\n",
       "      <td>HAM_0000022</td>\n",
       "      <td>/kaggle/input/isic-2018-jpg-256x256-resized/tr...</td>\n",
       "      <td>1</td>\n",
       "      <td>NaN</td>\n",
       "      <td>NaN</td>\n",
       "      <td>/kaggle/input/isic-balanced/images/ISIC_003137...</td>\n",
       "    </tr>\n",
       "    <tr>\n",
       "      <th>3</th>\n",
       "      <td>ISIC_0027190</td>\n",
       "      <td>HAM_0000040</td>\n",
       "      <td>/kaggle/input/isic-2018-jpg-256x256-resized/tr...</td>\n",
       "      <td>1</td>\n",
       "      <td>NaN</td>\n",
       "      <td>NaN</td>\n",
       "      <td>/kaggle/input/isic-balanced/images/ISIC_002719...</td>\n",
       "    </tr>\n",
       "    <tr>\n",
       "      <th>4</th>\n",
       "      <td>ISIC_0034048</td>\n",
       "      <td>HAM_0000042</td>\n",
       "      <td>/kaggle/input/isic-2018-jpg-256x256-resized/tr...</td>\n",
       "      <td>1</td>\n",
       "      <td>NaN</td>\n",
       "      <td>NaN</td>\n",
       "      <td>/kaggle/input/isic-balanced/images/ISIC_003404...</td>\n",
       "    </tr>\n",
       "    <tr>\n",
       "      <th>...</th>\n",
       "      <td>...</td>\n",
       "      <td>...</td>\n",
       "      <td>...</td>\n",
       "      <td>...</td>\n",
       "      <td>...</td>\n",
       "      <td>...</td>\n",
       "      <td>...</td>\n",
       "    </tr>\n",
       "    <tr>\n",
       "      <th>11665</th>\n",
       "      <td>ISIC_0357088</td>\n",
       "      <td>IP_0541183</td>\n",
       "      <td>/kaggle/input/isic-2024-challenge/train-image/...</td>\n",
       "      <td>0</td>\n",
       "      <td>0.472632</td>\n",
       "      <td>(0.4, 0.6]</td>\n",
       "      <td>/kaggle/input/isic-balanced/images/ISIC_035708...</td>\n",
       "    </tr>\n",
       "    <tr>\n",
       "      <th>11666</th>\n",
       "      <td>ISIC_5942709</td>\n",
       "      <td>IP_1249536</td>\n",
       "      <td>/kaggle/input/isic-2024-challenge/train-image/...</td>\n",
       "      <td>0</td>\n",
       "      <td>0.043596</td>\n",
       "      <td>(-0.001, 0.2]</td>\n",
       "      <td>/kaggle/input/isic-balanced/images/ISIC_594270...</td>\n",
       "    </tr>\n",
       "    <tr>\n",
       "      <th>11667</th>\n",
       "      <td>ISIC_2396598</td>\n",
       "      <td>IP_7797815</td>\n",
       "      <td>/kaggle/input/isic-2024-challenge/train-image/...</td>\n",
       "      <td>0</td>\n",
       "      <td>0.788677</td>\n",
       "      <td>(0.6, 0.8]</td>\n",
       "      <td>/kaggle/input/isic-balanced/images/ISIC_239659...</td>\n",
       "    </tr>\n",
       "    <tr>\n",
       "      <th>11668</th>\n",
       "      <td>ISIC_5997955</td>\n",
       "      <td>IP_5638421</td>\n",
       "      <td>/kaggle/input/isic-2024-challenge/train-image/...</td>\n",
       "      <td>0</td>\n",
       "      <td>0.989144</td>\n",
       "      <td>(0.8, 1.0]</td>\n",
       "      <td>/kaggle/input/isic-balanced/images/ISIC_599795...</td>\n",
       "    </tr>\n",
       "    <tr>\n",
       "      <th>11669</th>\n",
       "      <td>ISIC_2965427</td>\n",
       "      <td>IP_5558850</td>\n",
       "      <td>/kaggle/input/isic-2024-challenge/train-image/...</td>\n",
       "      <td>0</td>\n",
       "      <td>0.081347</td>\n",
       "      <td>(-0.001, 0.2]</td>\n",
       "      <td>/kaggle/input/isic-balanced/images/ISIC_296542...</td>\n",
       "    </tr>\n",
       "  </tbody>\n",
       "</table>\n",
       "<p>11670 rows × 7 columns</p>\n",
       "</div>"
      ],
      "text/plain": [
       "            isic_id   patient_id  \\\n",
       "0      ISIC_0034246  HAM_0000002   \n",
       "1      ISIC_0034162  HAM_0000006   \n",
       "2      ISIC_0031377  HAM_0000022   \n",
       "3      ISIC_0027190  HAM_0000040   \n",
       "4      ISIC_0034048  HAM_0000042   \n",
       "...             ...          ...   \n",
       "11665  ISIC_0357088   IP_0541183   \n",
       "11666  ISIC_5942709   IP_1249536   \n",
       "11667  ISIC_2396598   IP_7797815   \n",
       "11668  ISIC_5997955   IP_5638421   \n",
       "11669  ISIC_2965427   IP_5558850   \n",
       "\n",
       "                                                    path  target  \\\n",
       "0      /kaggle/input/isic-2018-jpg-256x256-resized/tr...       1   \n",
       "1      /kaggle/input/isic-2018-jpg-256x256-resized/tr...       1   \n",
       "2      /kaggle/input/isic-2018-jpg-256x256-resized/tr...       1   \n",
       "3      /kaggle/input/isic-2018-jpg-256x256-resized/tr...       1   \n",
       "4      /kaggle/input/isic-2018-jpg-256x256-resized/tr...       1   \n",
       "...                                                  ...     ...   \n",
       "11665  /kaggle/input/isic-2024-challenge/train-image/...       0   \n",
       "11666  /kaggle/input/isic-2024-challenge/train-image/...       0   \n",
       "11667  /kaggle/input/isic-2024-challenge/train-image/...       0   \n",
       "11668  /kaggle/input/isic-2024-challenge/train-image/...       0   \n",
       "11669  /kaggle/input/isic-2024-challenge/train-image/...       0   \n",
       "\n",
       "       target_eva02  binned_target  \\\n",
       "0               NaN            NaN   \n",
       "1               NaN            NaN   \n",
       "2               NaN            NaN   \n",
       "3               NaN            NaN   \n",
       "4               NaN            NaN   \n",
       "...             ...            ...   \n",
       "11665      0.472632     (0.4, 0.6]   \n",
       "11666      0.043596  (-0.001, 0.2]   \n",
       "11667      0.788677     (0.6, 0.8]   \n",
       "11668      0.989144     (0.8, 1.0]   \n",
       "11669      0.081347  (-0.001, 0.2]   \n",
       "\n",
       "                                                new_path  \n",
       "0      /kaggle/input/isic-balanced/images/ISIC_003424...  \n",
       "1      /kaggle/input/isic-balanced/images/ISIC_003416...  \n",
       "2      /kaggle/input/isic-balanced/images/ISIC_003137...  \n",
       "3      /kaggle/input/isic-balanced/images/ISIC_002719...  \n",
       "4      /kaggle/input/isic-balanced/images/ISIC_003404...  \n",
       "...                                                  ...  \n",
       "11665  /kaggle/input/isic-balanced/images/ISIC_035708...  \n",
       "11666  /kaggle/input/isic-balanced/images/ISIC_594270...  \n",
       "11667  /kaggle/input/isic-balanced/images/ISIC_239659...  \n",
       "11668  /kaggle/input/isic-balanced/images/ISIC_599795...  \n",
       "11669  /kaggle/input/isic-balanced/images/ISIC_296542...  \n",
       "\n",
       "[11670 rows x 7 columns]"
      ]
     },
     "execution_count": 54,
     "metadata": {},
     "output_type": "execute_result"
    }
   ],
   "source": [
    "df"
   ]
  },
  {
   "cell_type": "code",
   "execution_count": 55,
   "metadata": {},
   "outputs": [],
   "source": [
    "train_df, val_test_df = train_test_split(df, test_size=0.4, stratify=df['target'], random_state=42)"
   ]
  },
  {
   "cell_type": "code",
   "execution_count": 56,
   "metadata": {},
   "outputs": [],
   "source": [
    "val_df, test_df = train_test_split(val_test_df, test_size=0.5, stratify=val_test_df['target'], random_state=42)"
   ]
  },
  {
   "cell_type": "markdown",
   "metadata": {},
   "source": [
    "### Data Module"
   ]
  },
  {
   "cell_type": "code",
   "execution_count": 57,
   "metadata": {},
   "outputs": [],
   "source": [
    "import pytorch_lightning as pl\n",
    "from torch.utils.data import DataLoader, random_split\n",
    "from sklearn.model_selection import train_test_split\n",
    "\n",
    "class ISICDataModule(pl.LightningDataModule):\n",
    "    def __init__(self, csv_file,\n",
    "                 img_dir: str,\n",
    "                 transform: bool = None,\n",
    "                 batch_size: int = 32,\n",
    "                 num_workers: int = 4,\n",
    "                 is_tta: bool = False):\n",
    "        '''\n",
    "        Data Module for ISISC Balanced dataset\n",
    "        `is_tta` flag ensures transforms for test time augmentations are being used\n",
    "        '''\n",
    "        super().__init__()\n",
    "        self.csv_file = csv_file\n",
    "        self.img_dir = img_dir\n",
    "        self.transform = transform\n",
    "        self.batch_size = batch_size\n",
    "        self.num_workers = num_workers\n",
    "        self.is_tta = is_tta\n",
    "\n",
    "    def setup(self, stage=None):\n",
    "        df = pd.read_csv(self.csv_file)\n",
    "        df['target'] = df['target'].astype(int)\n",
    "        train_df, val_test_df = train_test_split(df, test_size=0.4, stratify=df['target'], random_state=42)\n",
    "        val_df, test_df = train_test_split(val_test_df, test_size=0.5, stratify=val_test_df['target'], random_state=42)\n",
    "        \n",
    "        self.train_dataset = ISICDataset(train_df, self.img_dir, transform=self.transform['train'])\n",
    "        self.val_dataset = ISICDataset(val_df, self.img_dir, transform=self.transform['valid'])\n",
    "        if self.is_tta == False:\n",
    "            self.test_dataset = ISICDataset(test_df, self.img_dir, transform=self.transform['valid'])\n",
    "        else:\n",
    "            self.test_dataset = ISICDataset(test_df, self.img_dir, transform=self.transform['tta'])\n",
    "\n",
    "    def train_dataloader(self):\n",
    "        return DataLoader(self.train_dataset, batch_size=self.batch_size, num_workers=self.num_workers, shuffle=True)\n",
    "\n",
    "    def val_dataloader(self):\n",
    "        return DataLoader(self.val_dataset, batch_size=self.batch_size, num_workers=self.num_workers, shuffle=False)\n",
    "\n",
    "    def test_dataloader(self):\n",
    "        return DataLoader(self.test_dataset, batch_size=self.batch_size, num_workers=self.num_workers, shuffle=False)"
   ]
  },
  {
   "cell_type": "code",
   "execution_count": 58,
   "metadata": {},
   "outputs": [],
   "source": [
    "class Encoder(nn.Module):\n",
    "    def __init__(self):\n",
    "        super(Encoder, self).__init__()\n",
    "        self.encoder = nn.Sequential(\n",
    "            nn.Conv2d(3, 64, kernel_size=3, padding=1),\n",
    "            nn.ReLU(inplace=True),\n",
    "            nn.Conv2d(64, 64, kernel_size=3, padding=1),\n",
    "            nn.ReLU(inplace=True),\n",
    "            nn.MaxPool2d(kernel_size=2, stride=2),\n",
    "            nn.Conv2d(64, 128, kernel_size=3, padding=1),\n",
    "            nn.ReLU(inplace=True),\n",
    "            nn.Conv2d(128, 128, kernel_size=3, padding=1),\n",
    "            nn.ReLU(inplace=True),\n",
    "            nn.MaxPool2d(kernel_size=2, stride=2),\n",
    "            nn.Conv2d(128, 256, kernel_size=3, padding=1),\n",
    "            nn.ReLU(inplace=True),\n",
    "            nn.Conv2d(256, 256, kernel_size=3, padding=1),\n",
    "            nn.ReLU(inplace=True),\n",
    "            nn.MaxPool2d(kernel_size=2, stride=2),\n",
    "            nn.Conv2d(256, 512, kernel_size=3, padding=1),\n",
    "            nn.ReLU(inplace=True),\n",
    "            nn.Conv2d(512, 512, kernel_size=3, padding=1),\n",
    "            nn.ReLU(inplace=True),\n",
    "            nn.MaxPool2d(kernel_size=2, stride=2),\n",
    "        )\n",
    "        self.fc = nn.Sequential(\n",
    "            nn.Linear(512 * 14 * 14, 1024),\n",
    "            nn.ReLU(inplace=True),\n",
    "            nn.Linear(1024, 2 if LOSS == 'CE' else 3)\n",
    "        )\n",
    "\n",
    "    def forward(self, x):\n",
    "        x = self.encoder(x)\n",
    "        x = x.view(x.size(0), -1)\n",
    "        x = self.fc(x)\n",
    "        return x\n",
    "\n",
    "def gem(x, p=3, eps=1e-4):\n",
    "    return F.avg_pool2d(x.clamp(min=eps), (x.size(-2), x.size(-1))).pow(1.0 / p)\n",
    "\n",
    "class GeM(nn.Module):\n",
    "    def __init__(self, p=3, eps=1e-6, p_trainable=False):\n",
    "        super(GeM, self).__init__()\n",
    "        if p_trainable:\n",
    "            self.p = Parameter(torch.ones(1) * p)\n",
    "        else:\n",
    "            self.p = p\n",
    "        self.eps = eps\n",
    "\n",
    "\n",
    "    def forward(self, x):\n",
    "        ret = gem(x, p=self.p, eps=self.eps)\n",
    "        return ret\n",
    "    \n",
    "\n",
    "class ISICModel(nn.Module):\n",
    "    def __init__(self,\n",
    "                 backbone: str = CONFIG['backbone'],\n",
    "                 loss: Literal['CE', 'UANLL'] = LOSS,\n",
    "                 pretrained: bool = False):\n",
    "        '''\n",
    "        Model with adaptive output FC for using with UANLL Loss\n",
    "        ! Uses external variable `LOSS`\n",
    "        '''\n",
    "        super(ISICModel, self).__init__()\n",
    "        self.encoder = timm.create_model(\n",
    "            backbone,\n",
    "            in_chans=3,\n",
    "            drop_rate=CONFIG['drop_rate'],\n",
    "            drop_path_rate=CONFIG['drop_rate_path'],\n",
    "            pretrained=pretrained,\n",
    "        )\n",
    "        \n",
    "        self.nb_fts = self.encoder.num_features\n",
    "        self.gap = nn.AdaptiveAvgPool2d(1)\n",
    "\n",
    "        if loss == 'UANLL':\n",
    "            self.out_chans = 3\n",
    "        else:\n",
    "            self.out_chans = 2\n",
    "\n",
    "        self.head = nn.Sequential(\n",
    "                        nn.Linear(self.nb_fts, 128),\n",
    "                        nn.BatchNorm1d(128),\n",
    "                        nn.Dropout(CONFIG[\"drop_rate_last\"]),\n",
    "                        nn.LeakyReLU(0.1),\n",
    "                        nn.Linear(128, self.out_chans),\n",
    "                    )\n",
    "        \n",
    "    def forward(self, x):\n",
    "        feat = self.encoder.forward_features(x)\n",
    "        feat = self.gap(feat)[:,:,0,0]\n",
    "        y = self.head(feat)\n",
    "        \n",
    "        return y\n",
    "    \n",
    "    def freeze_encoder(self, flag):\n",
    "        for param in self.encoder.parameters():\n",
    "            param.requires_grad = not flag\n",
    "            \n",
    "    \n",
    "class UANLLloss(nn.Module):\n",
    "    def __init__(self, smoothing=SMOOTH, classes=N_CLASSES):\n",
    "        super(UANLLloss, self).__init__()\n",
    "        self.confidence = 1.0 - smoothing\n",
    "        self.smoothing = smoothing\n",
    "        self.clc = classes\n",
    "        \n",
    "    def forward(self,x,y):\n",
    "        logvar  = (x[:,self.clc:]) #** 2 \n",
    "        prob = x[:,:self.clc]\n",
    "\n",
    "        with torch.no_grad():\n",
    "            yoh = torch.zeros_like(prob)\n",
    "            yoh.fill_(self.smoothing / (self.clc - 1))\n",
    "            yoh.scatter_(1, y.data.unsqueeze(1), self.confidence)\n",
    "\n",
    "        loss0 = ((yoh - prob) ** 2).sum(dim=1)\n",
    "        loss = (torch.exp(-logvar) * loss0 + self.clc * logvar)\n",
    "\n",
    "        return loss.mean()\n",
    "    \n",
    "class ClassModel(pl.LightningModule):\n",
    "    def __init__(self):\n",
    "        super(ClassModel, self).__init__()\n",
    "        self.model = ISICModel(backbone='tf_efficientnetv2_s')\n",
    "        self.criterion = UANLLloss() if LOSS == 'UANLL' else nn.CrossEntropyLoss()\n",
    "\n",
    "    def forward(self, x):\n",
    "        return self.model(x)\n",
    "\n",
    "    def training_step(self, batch, batch_idx):\n",
    "        images, targets = batch\n",
    "        outputs = self(images)\n",
    "        loss = self.criterion(outputs, targets)\n",
    "        self.log('train_loss', loss)\n",
    "        return loss\n",
    "\n",
    "    def validation_step(self, batch, batch_idx):\n",
    "        images, targets = batch\n",
    "        outputs = self(images)\n",
    "        loss = self.criterion(outputs, targets)\n",
    "        sm = nn.functional.softmax(outputs, dim=1)\n",
    "        acc = (sm.argmax(1) == targets).sum() / len(targets)\n",
    "        self.log('val_loss', loss, prog_bar=True)\n",
    "        self.log('val_acc', acc, prog_bar=True)\n",
    "        return {'val_loss': loss, 'val_acc': acc}\n",
    "\n",
    "    def configure_optimizers(self):\n",
    "        optimizer = torch.optim.Adam(self.model.parameters(), lr=1e-3, weight_decay=1e-4)\n",
    "        # scheduler = torch.optim.lr_scheduler.StepLR(optimizer, 16 * 50, gamma=0.5, last_epoch=-1, verbose=0)\n",
    "        # return [optimizer], [scheduler]\n",
    "        return optimizer\n",
    "\n"
   ]
  },
  {
   "cell_type": "code",
   "execution_count": 59,
   "metadata": {},
   "outputs": [
    {
     "name": "stderr",
     "output_type": "stream",
     "text": [
      "Seed set to 42\n",
      "GPU available: True (cuda), used: True\n",
      "TPU available: False, using: 0 TPU cores\n",
      "HPU available: False, using: 0 HPUs\n",
      "/root/miniconda/envs/cxr/lib/python3.12/site-packages/pytorch_lightning/callbacks/model_checkpoint.py:654: Checkpoint directory /repo/tta_class/checkpoints/encoder exists and is not empty.\n",
      "LOCAL_RANK: 0 - CUDA_VISIBLE_DEVICES: [0]\n",
      "\n",
      "  | Name      | Type             | Params | Mode \n",
      "-------------------------------------------------------\n",
      "0 | model     | ISICModel        | 21.6 M | train\n",
      "1 | criterion | CrossEntropyLoss | 0      | train\n",
      "-------------------------------------------------------\n",
      "21.6 M    Trainable params\n",
      "0         Non-trainable params\n",
      "21.6 M    Total params\n",
      "86.492    Total estimated model params size (MB)\n",
      "699       Modules in train mode\n",
      "0         Modules in eval mode\n"
     ]
    },
    {
     "name": "stdout",
     "output_type": "stream",
     "text": [
      "                                                                           "
     ]
    },
    {
     "name": "stderr",
     "output_type": "stream",
     "text": [
      "/root/miniconda/envs/cxr/lib/python3.12/site-packages/pytorch_lightning/trainer/connectors/data_connector.py:424: The 'val_dataloader' does not have many workers which may be a bottleneck. Consider increasing the value of the `num_workers` argument` to `num_workers=19` in the `DataLoader` to improve performance.\n",
      "/root/miniconda/envs/cxr/lib/python3.12/site-packages/pytorch_lightning/trainer/connectors/data_connector.py:424: The 'train_dataloader' does not have many workers which may be a bottleneck. Consider increasing the value of the `num_workers` argument` to `num_workers=19` in the `DataLoader` to improve performance.\n"
     ]
    },
    {
     "name": "stdout",
     "output_type": "stream",
     "text": [
      "Epoch 0:   0%|          | 0/219 [00:00<?, ?it/s] "
     ]
    },
    {
     "name": "stdout",
     "output_type": "stream",
     "text": [
      "Epoch 0: 100%|██████████| 219/219 [00:52<00:00,  4.14it/s, v_num=22, val_loss=0.247, val_acc=0.910]"
     ]
    },
    {
     "name": "stderr",
     "output_type": "stream",
     "text": [
      "`Trainer.fit` stopped: `max_epochs=1` reached.\n"
     ]
    },
    {
     "name": "stdout",
     "output_type": "stream",
     "text": [
      "Epoch 0: 100%|██████████| 219/219 [00:53<00:00,  4.09it/s, v_num=22, val_loss=0.247, val_acc=0.910]\n"
     ]
    },
    {
     "name": "stderr",
     "output_type": "stream",
     "text": [
      "Seed set to 0\n",
      "GPU available: True (cuda), used: True\n",
      "TPU available: False, using: 0 TPU cores\n",
      "HPU available: False, using: 0 HPUs\n",
      "LOCAL_RANK: 0 - CUDA_VISIBLE_DEVICES: [0]\n",
      "\n",
      "  | Name      | Type             | Params | Mode \n",
      "-------------------------------------------------------\n",
      "0 | model     | ISICModel        | 21.6 M | train\n",
      "1 | criterion | CrossEntropyLoss | 0      | train\n",
      "-------------------------------------------------------\n",
      "21.6 M    Trainable params\n",
      "0         Non-trainable params\n",
      "21.6 M    Total params\n",
      "86.492    Total estimated model params size (MB)\n",
      "699       Modules in train mode\n",
      "0         Modules in eval mode\n"
     ]
    },
    {
     "name": "stdout",
     "output_type": "stream",
     "text": [
      "Epoch 0: 100%|██████████| 219/219 [00:54<00:00,  4.05it/s, v_num=1, val_loss=0.241, val_acc=0.916]"
     ]
    },
    {
     "name": "stderr",
     "output_type": "stream",
     "text": [
      "`Trainer.fit` stopped: `max_epochs=1` reached.\n"
     ]
    },
    {
     "name": "stdout",
     "output_type": "stream",
     "text": [
      "Epoch 0: 100%|██████████| 219/219 [00:54<00:00,  4.01it/s, v_num=1, val_loss=0.241, val_acc=0.916]\n"
     ]
    },
    {
     "name": "stderr",
     "output_type": "stream",
     "text": [
      "Seed set to 17\n",
      "GPU available: True (cuda), used: True\n",
      "TPU available: False, using: 0 TPU cores\n",
      "HPU available: False, using: 0 HPUs\n",
      "LOCAL_RANK: 0 - CUDA_VISIBLE_DEVICES: [0]\n",
      "\n",
      "  | Name      | Type             | Params | Mode \n",
      "-------------------------------------------------------\n",
      "0 | model     | ISICModel        | 21.6 M | train\n",
      "1 | criterion | CrossEntropyLoss | 0      | train\n",
      "-------------------------------------------------------\n",
      "21.6 M    Trainable params\n",
      "0         Non-trainable params\n",
      "21.6 M    Total params\n",
      "86.492    Total estimated model params size (MB)\n",
      "699       Modules in train mode\n",
      "0         Modules in eval mode\n"
     ]
    },
    {
     "name": "stdout",
     "output_type": "stream",
     "text": [
      "Epoch 0: 100%|██████████| 219/219 [00:54<00:00,  4.00it/s, v_num=1, val_loss=0.261, val_acc=0.909]"
     ]
    },
    {
     "name": "stderr",
     "output_type": "stream",
     "text": [
      "`Trainer.fit` stopped: `max_epochs=1` reached.\n"
     ]
    },
    {
     "name": "stdout",
     "output_type": "stream",
     "text": [
      "Epoch 0: 100%|██████████| 219/219 [00:55<00:00,  3.96it/s, v_num=1, val_loss=0.261, val_acc=0.909]\n"
     ]
    },
    {
     "name": "stderr",
     "output_type": "stream",
     "text": [
      "Seed set to 9\n",
      "GPU available: True (cuda), used: True\n",
      "TPU available: False, using: 0 TPU cores\n",
      "HPU available: False, using: 0 HPUs\n",
      "LOCAL_RANK: 0 - CUDA_VISIBLE_DEVICES: [0]\n",
      "\n",
      "  | Name      | Type             | Params | Mode \n",
      "-------------------------------------------------------\n",
      "0 | model     | ISICModel        | 21.6 M | train\n",
      "1 | criterion | CrossEntropyLoss | 0      | train\n",
      "-------------------------------------------------------\n",
      "21.6 M    Trainable params\n",
      "0         Non-trainable params\n",
      "21.6 M    Total params\n",
      "86.492    Total estimated model params size (MB)\n",
      "699       Modules in train mode\n",
      "0         Modules in eval mode\n"
     ]
    },
    {
     "name": "stdout",
     "output_type": "stream",
     "text": [
      "Epoch 0: 100%|██████████| 219/219 [00:54<00:00,  4.03it/s, v_num=1, val_loss=0.378, val_acc=0.870]"
     ]
    },
    {
     "name": "stderr",
     "output_type": "stream",
     "text": [
      "`Trainer.fit` stopped: `max_epochs=1` reached.\n"
     ]
    },
    {
     "name": "stdout",
     "output_type": "stream",
     "text": [
      "Epoch 0: 100%|██████████| 219/219 [00:54<00:00,  3.98it/s, v_num=1, val_loss=0.378, val_acc=0.870]\n"
     ]
    },
    {
     "name": "stderr",
     "output_type": "stream",
     "text": [
      "Seed set to 3\n",
      "GPU available: True (cuda), used: True\n",
      "TPU available: False, using: 0 TPU cores\n",
      "HPU available: False, using: 0 HPUs\n",
      "LOCAL_RANK: 0 - CUDA_VISIBLE_DEVICES: [0]\n",
      "\n",
      "  | Name      | Type             | Params | Mode \n",
      "-------------------------------------------------------\n",
      "0 | model     | ISICModel        | 21.6 M | train\n",
      "1 | criterion | CrossEntropyLoss | 0      | train\n",
      "-------------------------------------------------------\n",
      "21.6 M    Trainable params\n",
      "0         Non-trainable params\n",
      "21.6 M    Total params\n",
      "86.492    Total estimated model params size (MB)\n",
      "699       Modules in train mode\n",
      "0         Modules in eval mode\n"
     ]
    },
    {
     "name": "stdout",
     "output_type": "stream",
     "text": [
      "Epoch 0: 100%|██████████| 219/219 [00:53<00:00,  4.06it/s, v_num=1, val_loss=0.455, val_acc=0.879]"
     ]
    },
    {
     "name": "stderr",
     "output_type": "stream",
     "text": [
      "`Trainer.fit` stopped: `max_epochs=1` reached.\n"
     ]
    },
    {
     "name": "stdout",
     "output_type": "stream",
     "text": [
      "Epoch 0: 100%|██████████| 219/219 [00:54<00:00,  4.02it/s, v_num=1, val_loss=0.455, val_acc=0.879]\n"
     ]
    }
   ],
   "source": [
    "checkpoints = []\n",
    "\n",
    "datamodule = ISICDataModule(csv_file='data/dataset.csv', img_dir='data/images', transform=transforms, batch_size=32, num_workers=0)\n",
    "\n",
    "datamodule.setup()\n",
    "\n",
    "train_loader = datamodule.train_dataloader()\n",
    "val_loader = datamodule.val_dataloader()\n",
    "test_loader = datamodule.test_dataloader()\n",
    "\n",
    "if TRAIN:\n",
    "    for seed in SEED:\n",
    "        g = seed_everything(seed)\n",
    "\n",
    "        train_loader = datamodule.train_dataloader()\n",
    "        val_loader = datamodule.val_dataloader()\n",
    "\n",
    "        checkpoint_callback = ModelCheckpoint(\n",
    "            monitor='val_loss',\n",
    "            dirpath='checkpoints/encoder',\n",
    "            filename = f'enetv2s_{LOSS}_{seed}_' + '{epoch:02d}-{val_acc:.2f}',\n",
    "            save_top_k=1,\n",
    "            mode='min',\n",
    "        )\n",
    "\n",
    "        logger = TensorBoardLogger(\"tb_logs\", name=f'class_{LOSS}_{seed}')\n",
    "\n",
    "        model = ClassModel()\n",
    "\n",
    "        trainer = pl.Trainer(\n",
    "            max_epochs=EPOCHS,\n",
    "            callbacks=[checkpoint_callback],\n",
    "            logger=logger,\n",
    "            deterministic=True\n",
    "        )\n",
    "\n",
    "        trainer.fit(model, train_loader, val_loader)\n",
    "        checkpoints.append(checkpoint_callback.best_model_path)\n"
   ]
  },
  {
   "cell_type": "code",
   "execution_count": 60,
   "metadata": {},
   "outputs": [],
   "source": [
    "acc = []\n",
    "f1 = []\n",
    "auc = []"
   ]
  },
  {
   "cell_type": "code",
   "execution_count": 61,
   "metadata": {},
   "outputs": [],
   "source": [
    "#checkpoints = ['checkpoints/encoder/enetv2s_UANLL_17_epoch=99-val_acc=0.95.ckpt']"
   ]
  },
  {
   "cell_type": "code",
   "execution_count": 62,
   "metadata": {},
   "outputs": [
    {
     "data": {
      "text/plain": [
       "['/repo/tta_class/checkpoints/encoder/enetv2s_CE_42_epoch=00-val_acc=0.91.ckpt',\n",
       " '/repo/tta_class/checkpoints/encoder/enetv2s_CE_0_epoch=00-val_acc=0.92.ckpt',\n",
       " '/repo/tta_class/checkpoints/encoder/enetv2s_CE_17_epoch=00-val_acc=0.91.ckpt',\n",
       " '/repo/tta_class/checkpoints/encoder/enetv2s_CE_9_epoch=00-val_acc=0.87.ckpt',\n",
       " '/repo/tta_class/checkpoints/encoder/enetv2s_CE_3_epoch=00-val_acc=0.88.ckpt']"
      ]
     },
     "execution_count": 62,
     "metadata": {},
     "output_type": "execute_result"
    }
   ],
   "source": [
    "checkpoints"
   ]
  },
  {
   "cell_type": "code",
   "execution_count": 63,
   "metadata": {},
   "outputs": [
    {
     "data": {
      "text/plain": [
       "14890"
      ]
     },
     "execution_count": 63,
     "metadata": {},
     "output_type": "execute_result"
    }
   ],
   "source": [
    "del train_loader\n",
    "del val_loader\n",
    "del test_loader\n",
    "del datamodule\n",
    "\n",
    "gc.collect()"
   ]
  },
  {
   "cell_type": "markdown",
   "metadata": {},
   "source": [
    "# No TTA"
   ]
  },
  {
   "cell_type": "code",
   "execution_count": 64,
   "metadata": {},
   "outputs": [
    {
     "name": "stderr",
     "output_type": "stream",
     "text": [
      "/tmp/ipykernel_33802/1848119986.py:9: FutureWarning: You are using `torch.load` with `weights_only=False` (the current default value), which uses the default pickle module implicitly. It is possible to construct malicious pickle data which will execute arbitrary code during unpickling (See https://github.com/pytorch/pytorch/blob/main/SECURITY.md#untrusted-models for more details). In a future release, the default value for `weights_only` will be flipped to `True`. This limits the functions that could be executed during unpickling. Arbitrary objects will no longer be allowed to be loaded via this mode unless they are explicitly allowlisted by the user via `torch.serialization.add_safe_globals`. We recommend you start setting `weights_only=True` for any use case where you don't have full control of the loaded file. Please open an issue on GitHub for any issues related to this experimental feature.\n",
      "  model.load_state_dict(torch.load(checkpoint)['state_dict'])\n"
     ]
    },
    {
     "name": "stdout",
     "output_type": "stream",
     "text": [
      "acc 0.8886032562125107, f1 0.8786181139122315, aucroc 0.9350654027042916\n"
     ]
    },
    {
     "name": "stderr",
     "output_type": "stream",
     "text": [
      "/tmp/ipykernel_33802/1848119986.py:9: FutureWarning: You are using `torch.load` with `weights_only=False` (the current default value), which uses the default pickle module implicitly. It is possible to construct malicious pickle data which will execute arbitrary code during unpickling (See https://github.com/pytorch/pytorch/blob/main/SECURITY.md#untrusted-models for more details). In a future release, the default value for `weights_only` will be flipped to `True`. This limits the functions that could be executed during unpickling. Arbitrary objects will no longer be allowed to be loaded via this mode unless they are explicitly allowlisted by the user via `torch.serialization.add_safe_globals`. We recommend you start setting `weights_only=True` for any use case where you don't have full control of the loaded file. Please open an issue on GitHub for any issues related to this experimental feature.\n",
      "  model.load_state_dict(torch.load(checkpoint)['state_dict'])\n"
     ]
    },
    {
     "name": "stdout",
     "output_type": "stream",
     "text": [
      "acc 0.8796058269065982, f1 0.8617806197737334, aucroc 0.9379967666078778\n"
     ]
    },
    {
     "name": "stderr",
     "output_type": "stream",
     "text": [
      "/tmp/ipykernel_33802/1848119986.py:9: FutureWarning: You are using `torch.load` with `weights_only=False` (the current default value), which uses the default pickle module implicitly. It is possible to construct malicious pickle data which will execute arbitrary code during unpickling (See https://github.com/pytorch/pytorch/blob/main/SECURITY.md#untrusted-models for more details). In a future release, the default value for `weights_only` will be flipped to `True`. This limits the functions that could be executed during unpickling. Arbitrary objects will no longer be allowed to be loaded via this mode unless they are explicitly allowlisted by the user via `torch.serialization.add_safe_globals`. We recommend you start setting `weights_only=True` for any use case where you don't have full control of the loaded file. Please open an issue on GitHub for any issues related to this experimental feature.\n",
      "  model.load_state_dict(torch.load(checkpoint)['state_dict'])\n"
     ]
    },
    {
     "name": "stdout",
     "output_type": "stream",
     "text": [
      "acc 0.9113110539845758, f1 0.9049150206706477, aucroc 0.9523313492063492\n"
     ]
    },
    {
     "name": "stderr",
     "output_type": "stream",
     "text": [
      "/tmp/ipykernel_33802/1848119986.py:9: FutureWarning: You are using `torch.load` with `weights_only=False` (the current default value), which uses the default pickle module implicitly. It is possible to construct malicious pickle data which will execute arbitrary code during unpickling (See https://github.com/pytorch/pytorch/blob/main/SECURITY.md#untrusted-models for more details). In a future release, the default value for `weights_only` will be flipped to `True`. This limits the functions that could be executed during unpickling. Arbitrary objects will no longer be allowed to be loaded via this mode unless they are explicitly allowlisted by the user via `torch.serialization.add_safe_globals`. We recommend you start setting `weights_only=True` for any use case where you don't have full control of the loaded file. Please open an issue on GitHub for any issues related to this experimental feature.\n",
      "  model.load_state_dict(torch.load(checkpoint)['state_dict'])\n"
     ]
    },
    {
     "name": "stdout",
     "output_type": "stream",
     "text": [
      "acc 0.8380462724935732, f1 0.8288043478260869, aucroc 0.9148511904761905\n"
     ]
    },
    {
     "name": "stderr",
     "output_type": "stream",
     "text": [
      "/tmp/ipykernel_33802/1848119986.py:9: FutureWarning: You are using `torch.load` with `weights_only=False` (the current default value), which uses the default pickle module implicitly. It is possible to construct malicious pickle data which will execute arbitrary code during unpickling (See https://github.com/pytorch/pytorch/blob/main/SECURITY.md#untrusted-models for more details). In a future release, the default value for `weights_only` will be flipped to `True`. This limits the functions that could be executed during unpickling. Arbitrary objects will no longer be allowed to be loaded via this mode unless they are explicitly allowlisted by the user via `torch.serialization.add_safe_globals`. We recommend you start setting `weights_only=True` for any use case where you don't have full control of the loaded file. Please open an issue on GitHub for any issues related to this experimental feature.\n",
      "  model.load_state_dict(torch.load(checkpoint)['state_dict'])\n"
     ]
    },
    {
     "name": "stdout",
     "output_type": "stream",
     "text": [
      "acc 0.8847472150814053, f1 0.8725722406442444, aucroc 0.9335640799529689\n",
      "acc\n",
      "mean 0.8804627249357326, std 0.023816524609575486\n",
      "f1\n",
      "mean 0.8693380685653889, std 0.024748317845805987\n",
      "aucroc\n",
      "mean 0.9347617577895356, std 0.011975918735380854\n"
     ]
    }
   ],
   "source": [
    "datamodule = ISICDataModule(csv_file='data/dataset.csv', img_dir='data/images', transform=transforms, batch_size=32, num_workers=0)\n",
    "\n",
    "datamodule.setup()\n",
    "\n",
    "test_loader = datamodule.test_dataloader()\n",
    "\n",
    "for checkpoint in checkpoints:\n",
    "    model = ClassModel()\n",
    "    model.load_state_dict(torch.load(checkpoint)['state_dict'])\n",
    "    model.to('cuda')\n",
    "\n",
    "    labels_all = []\n",
    "    outputs_sm_all = []\n",
    "    predictions_all = []\n",
    "\n",
    "    with torch.no_grad():\n",
    "        for i, (inputs, labels) in enumerate(test_loader):\n",
    "            inputs = inputs.to('cuda')\n",
    "            labels = labels.to('cuda')\n",
    "\n",
    "            outputs = model(inputs)\n",
    "            outputs_sm = nn.functional.softmax(outputs, dim=1)\n",
    "\n",
    "            labels_all.append(labels.cpu())\n",
    "            outputs_sm_all.append(outputs_sm.cpu())\n",
    "            predictions_all.append(outputs_sm.argmax(1).cpu())\n",
    "\n",
    "    labels_all = torch.cat(labels_all).numpy()\n",
    "    outputs_sm_all = torch.cat(outputs_sm_all).numpy()\n",
    "    predictions_all = torch.cat(predictions_all).numpy()\n",
    "\n",
    "    accuracy_score_test = accuracy_score(labels_all, predictions_all)\n",
    "    f1_score_test = f1_score(labels_all, predictions_all)\n",
    "    roc_auc_score_test = roc_auc_score(labels_all, outputs_sm_all[:, 1])\n",
    "\n",
    "    acc.append(accuracy_score_test)\n",
    "    f1.append(f1_score_test)\n",
    "    auc.append(roc_auc_score_test)\n",
    "\n",
    "    print(f'acc {accuracy_score_test}, f1 {f1_score_test}, aucroc {roc_auc_score_test}')\n",
    "\n",
    "print('acc')\n",
    "print(f'mean {np.mean(acc)}, std {np.std(acc)}')\n",
    "print('f1')\n",
    "print(f'mean {np.mean(f1)}, std {np.std(f1)}')\n",
    "print('aucroc')\n",
    "print(f'mean {np.mean(auc)}, std {np.std(auc)}')"
   ]
  },
  {
   "cell_type": "code",
   "execution_count": 65,
   "metadata": {},
   "outputs": [
    {
     "data": {
      "text/plain": [
       "50"
      ]
     },
     "execution_count": 65,
     "metadata": {},
     "output_type": "execute_result"
    }
   ],
   "source": [
    "del test_loader\n",
    "del datamodule\n",
    "\n",
    "gc.collect()"
   ]
  },
  {
   "cell_type": "markdown",
   "metadata": {},
   "source": [
    "# TTA"
   ]
  },
  {
   "cell_type": "code",
   "execution_count": 66,
   "metadata": {},
   "outputs": [
    {
     "name": "stderr",
     "output_type": "stream",
     "text": [
      "/tmp/ipykernel_33802/1198892155.py:9: FutureWarning: You are using `torch.load` with `weights_only=False` (the current default value), which uses the default pickle module implicitly. It is possible to construct malicious pickle data which will execute arbitrary code during unpickling (See https://github.com/pytorch/pytorch/blob/main/SECURITY.md#untrusted-models for more details). In a future release, the default value for `weights_only` will be flipped to `True`. This limits the functions that could be executed during unpickling. Arbitrary objects will no longer be allowed to be loaded via this mode unless they are explicitly allowlisted by the user via `torch.serialization.add_safe_globals`. We recommend you start setting `weights_only=True` for any use case where you don't have full control of the loaded file. Please open an issue on GitHub for any issues related to this experimental feature.\n",
      "  model.load_state_dict(torch.load(checkpoint)['state_dict'])\n",
      "Seed set to 42\n"
     ]
    },
    {
     "name": "stderr",
     "output_type": "stream",
     "text": [
      "Seed set to 0\n",
      "Seed set to 17\n",
      "Seed set to 9\n",
      "Seed set to 3\n"
     ]
    },
    {
     "name": "stdout",
     "output_type": "stream",
     "text": [
      "acc 0.8955869751499571, f1 0.8866880550518436, aucroc 0.8563551330099941\n"
     ]
    },
    {
     "name": "stderr",
     "output_type": "stream",
     "text": [
      "/tmp/ipykernel_33802/1198892155.py:9: FutureWarning: You are using `torch.load` with `weights_only=False` (the current default value), which uses the default pickle module implicitly. It is possible to construct malicious pickle data which will execute arbitrary code during unpickling (See https://github.com/pytorch/pytorch/blob/main/SECURITY.md#untrusted-models for more details). In a future release, the default value for `weights_only` will be flipped to `True`. This limits the functions that could be executed during unpickling. Arbitrary objects will no longer be allowed to be loaded via this mode unless they are explicitly allowlisted by the user via `torch.serialization.add_safe_globals`. We recommend you start setting `weights_only=True` for any use case where you don't have full control of the loaded file. Please open an issue on GitHub for any issues related to this experimental feature.\n",
      "  model.load_state_dict(torch.load(checkpoint)['state_dict'])\n",
      "Seed set to 42\n",
      "Seed set to 0\n",
      "Seed set to 17\n",
      "Seed set to 9\n",
      "Seed set to 3\n"
     ]
    },
    {
     "name": "stdout",
     "output_type": "stream",
     "text": [
      "acc 0.8815338474721508, f1 0.8639204685269944, aucroc 0.8590095348324515\n"
     ]
    },
    {
     "name": "stderr",
     "output_type": "stream",
     "text": [
      "/tmp/ipykernel_33802/1198892155.py:9: FutureWarning: You are using `torch.load` with `weights_only=False` (the current default value), which uses the default pickle module implicitly. It is possible to construct malicious pickle data which will execute arbitrary code during unpickling (See https://github.com/pytorch/pytorch/blob/main/SECURITY.md#untrusted-models for more details). In a future release, the default value for `weights_only` will be flipped to `True`. This limits the functions that could be executed during unpickling. Arbitrary objects will no longer be allowed to be loaded via this mode unless they are explicitly allowlisted by the user via `torch.serialization.add_safe_globals`. We recommend you start setting `weights_only=True` for any use case where you don't have full control of the loaded file. Please open an issue on GitHub for any issues related to this experimental feature.\n",
      "  model.load_state_dict(torch.load(checkpoint)['state_dict'])\n",
      "Seed set to 42\n",
      "Seed set to 0\n",
      "Seed set to 17\n",
      "Seed set to 9\n",
      "Seed set to 3\n"
     ]
    },
    {
     "name": "stdout",
     "output_type": "stream",
     "text": [
      "acc 0.8998286203941731, f1 0.892545270705028, aucroc 0.8645042989417989\n"
     ]
    },
    {
     "name": "stderr",
     "output_type": "stream",
     "text": [
      "/tmp/ipykernel_33802/1198892155.py:9: FutureWarning: You are using `torch.load` with `weights_only=False` (the current default value), which uses the default pickle module implicitly. It is possible to construct malicious pickle data which will execute arbitrary code during unpickling (See https://github.com/pytorch/pytorch/blob/main/SECURITY.md#untrusted-models for more details). In a future release, the default value for `weights_only` will be flipped to `True`. This limits the functions that could be executed during unpickling. Arbitrary objects will no longer be allowed to be loaded via this mode unless they are explicitly allowlisted by the user via `torch.serialization.add_safe_globals`. We recommend you start setting `weights_only=True` for any use case where you don't have full control of the loaded file. Please open an issue on GitHub for any issues related to this experimental feature.\n",
      "  model.load_state_dict(torch.load(checkpoint)['state_dict'])\n",
      "Seed set to 42\n",
      "Seed set to 0\n",
      "Seed set to 17\n",
      "Seed set to 9\n",
      "Seed set to 3\n"
     ]
    },
    {
     "name": "stdout",
     "output_type": "stream",
     "text": [
      "acc 0.8456726649528706, f1 0.8320745920745921, aucroc 0.8398562793944738\n"
     ]
    },
    {
     "name": "stderr",
     "output_type": "stream",
     "text": [
      "/tmp/ipykernel_33802/1198892155.py:9: FutureWarning: You are using `torch.load` with `weights_only=False` (the current default value), which uses the default pickle module implicitly. It is possible to construct malicious pickle data which will execute arbitrary code during unpickling (See https://github.com/pytorch/pytorch/blob/main/SECURITY.md#untrusted-models for more details). In a future release, the default value for `weights_only` will be flipped to `True`. This limits the functions that could be executed during unpickling. Arbitrary objects will no longer be allowed to be loaded via this mode unless they are explicitly allowlisted by the user via `torch.serialization.add_safe_globals`. We recommend you start setting `weights_only=True` for any use case where you don't have full control of the loaded file. Please open an issue on GitHub for any issues related to this experimental feature.\n",
      "  model.load_state_dict(torch.load(checkpoint)['state_dict'])\n",
      "Seed set to 42\n",
      "Seed set to 0\n",
      "Seed set to 17\n",
      "Seed set to 9\n",
      "Seed set to 3\n"
     ]
    },
    {
     "name": "stdout",
     "output_type": "stream",
     "text": [
      "acc 0.8759211653813196, f1 0.8611297592787954, aucroc 0.8505546884185774\n",
      "acc\n",
      "mean 0.8800856898029135, std 0.02161160535271253\n",
      "f1\n",
      "mean 0.8683048488464198, std 0.023187519110589017\n",
      "aucroc\n",
      "mean 0.8944088723544974, std 0.04165759053988952\n"
     ]
    }
   ],
   "source": [
    "\n",
    "datamodule = ISICDataModule(csv_file='data/dataset.csv', img_dir='data/images', transform=transforms, batch_size=32, num_workers=0, is_tta=True)\n",
    "\n",
    "datamodule.setup()\n",
    "\n",
    "test_loader = datamodule.test_dataloader()\n",
    "\n",
    "for checkpoint in checkpoints:\n",
    "    model = ClassModel()\n",
    "    model.load_state_dict(torch.load(checkpoint)['state_dict'])\n",
    "    model.to('cuda')\n",
    "\n",
    "    labels_all = []\n",
    "    outputs_sm_all = []\n",
    "\n",
    "    first = True\n",
    "\n",
    "    for seed in SEED:\n",
    "        seed_everything(seed)\n",
    "\n",
    "        for j in range(NUM_TTA_FOR_SEED):\n",
    "\n",
    "            with torch.no_grad():\n",
    "                for i, (inputs, labels) in enumerate(test_loader):\n",
    "                    inputs = inputs.to('cuda')\n",
    "                    labels = labels.to('cuda')\n",
    "\n",
    "                    outputs = model(inputs)\n",
    "                    outputs_sm = nn.functional.softmax(outputs, dim=1)\n",
    "\n",
    "                    if first:\n",
    "                        labels_all.append(labels.cpu())\n",
    "                        outputs_sm_all.append(outputs_sm.cpu())\n",
    "                    else:\n",
    "                        outputs_sm_all[i] += outputs_sm.cpu()\n",
    "        first = False\n",
    "\n",
    "    labels_all = torch.cat(labels_all).numpy()\n",
    "    outputs_sm_all = torch.cat(outputs_sm_all).numpy() / (len(SEED) * NUM_TTA_FOR_SEED)\n",
    "    predictions_all = outputs_sm_all.argmax(1)\n",
    "\n",
    "    accuracy_score_test = accuracy_score(labels_all, predictions_all)\n",
    "    f1_score_test = f1_score(labels_all, predictions_all)\n",
    "    roc_auc_score_test = roc_auc_score(labels_all, outputs_sm_all[:, 1])\n",
    "\n",
    "    acc.append(accuracy_score_test)\n",
    "    f1.append(f1_score_test)\n",
    "    auc.append(roc_auc_score_test)\n",
    "\n",
    "    print(f'acc {accuracy_score_test}, f1 {f1_score_test}, aucroc {roc_auc_score_test}')\n",
    "\n",
    "print('acc')\n",
    "print(f'mean {np.mean(acc)}, std {np.std(acc)}')\n",
    "print('f1')\n",
    "print(f'mean {np.mean(f1)}, std {np.std(f1)}')\n",
    "print('aucroc')\n",
    "print(f'mean {np.mean(auc)}, std {np.std(auc)}')\n"
   ]
  },
  {
   "cell_type": "code",
   "execution_count": 67,
   "metadata": {},
   "outputs": [
    {
     "data": {
      "text/plain": [
       "50"
      ]
     },
     "execution_count": 67,
     "metadata": {},
     "output_type": "execute_result"
    }
   ],
   "source": [
    "del test_loader\n",
    "del datamodule\n",
    "\n",
    "gc.collect()"
   ]
  }
 ],
 "metadata": {
  "kernelspec": {
   "display_name": "Pytorch",
   "language": "python",
   "name": "python3"
  },
  "language_info": {
   "codemirror_mode": {
    "name": "ipython",
    "version": 3
   },
   "file_extension": ".py",
   "mimetype": "text/x-python",
   "name": "python",
   "nbconvert_exporter": "python",
   "pygments_lexer": "ipython3",
   "version": "3.12.5"
  }
 },
 "nbformat": 4,
 "nbformat_minor": 2
}
